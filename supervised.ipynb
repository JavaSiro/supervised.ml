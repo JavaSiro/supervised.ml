{
 "cells": [
  {
   "cell_type": "code",
   "execution_count": 32,
   "metadata": {},
   "outputs": [
    {
     "name": "stdout",
     "output_type": "stream",
     "text": [
      "college.csv is already downloaded.\n",
      "exams.csv is already downloaded.\n"
     ]
    }
   ],
   "source": [
    "import os\n",
    "import glob\n",
    "import gdown \n",
    "import zipfile\n",
    "import shutil\n",
    "\n",
    "def download_data(save_folder, dataset_name=\"salaries\"):\n",
    "    dataset_list = [\"salaries\", \"exams\", \"college\", \"cars\", \"mall\"]\n",
    "    assert dataset_name in dataset_list, f\"Choose one of the available datasets: {dataset_list}\"\n",
    "\n",
    "    file_ids = {\n",
    "        \"college\": \"1vwfMpQ4ikAI91zn1bWxP_Iqz7DTFUA9F\",\n",
    "        \"salaries\": \"1p-XtX29fgXT9CzBfpHm3t8r028gQPRhe\",\n",
    "        \"exams\": \"1TYN_sRmauaDgNYgQ-0VSHVAJvLoxKx2R\",\n",
    "        \"cars\": \"1Fi5IPdfEktnKyf3dyHmnh84a2jiXl33A\",\n",
    "        \"mall\": \"1eGWJVRNmGjfaH0o3dczBbNe_-RrW0_Jm\",\n",
    "    }\n",
    "\n",
    "    file_id = file_ids[dataset_name]\n",
    "    zip_path = os.path.join(save_folder, f\"{dataset_name}.zip\")\n",
    "    csv_path = os.path.join(save_folder, f\"{dataset_name}.csv\")\n",
    "\n",
    "    os.makedirs(save_folder, exist_ok=True)\n",
    "\n",
    "    if os.path.isfile(csv_path):\n",
    "        print(f\"{dataset_name}.csv is already downloaded.\")\n",
    "        return\n",
    "\n",
    "    print(f\"⬇️ Downloading dataset: {dataset_name}...\")\n",
    "\n",
    "    url = f\"https://drive.google.com/uc?id={file_id}\"\n",
    "    gdown.download(url, zip_path, quiet=False)\n",
    "\n",
    "    if not os.path.exists(zip_path):\n",
    "        print(\"Error: ZIP file was not downloaded!\")\n",
    "        return\n",
    "    if not zipfile.is_zipfile(zip_path):\n",
    "        print(\"Error: The downloaded file is not a valid ZIP! Check the Google Drive link.\")\n",
    "        return\n",
    "\n",
    "    with zipfile.ZipFile(zip_path, 'r') as zip_ref:\n",
    "        zip_ref.extractall(save_folder)\n",
    "\n",
    "    os.remove(zip_path)\n",
    "\n",
    "    extracted_files = glob.glob(os.path.join(save_folder, \"*\"))\n",
    "    \n",
    "    if not extracted_files:\n",
    "        print(\"Error: No files were extracted! Check if the ZIP contains a subfolder.\")\n",
    "        return\n",
    "\n",
    "    if len(extracted_files) == 1 and os.path.isdir(extracted_files[0]):\n",
    "        extracted_files = glob.glob(os.path.join(extracted_files[0], \"*\"))\n",
    "\n",
    "    csv_files = [f for f in extracted_files if f.endswith(\".csv\")]\n",
    "\n",
    "    if not csv_files:\n",
    "        print(\"Error: No CSV files found after extraction!\")\n",
    "        return\n",
    "\n",
    "    latest_csv = max(csv_files, key=os.path.getctime)\n",
    "    shutil.move(latest_csv, csv_path)\n",
    "\n",
    "    print(f\" {dataset_name}.csv successfully downloaded and saved.\")\n",
    "\n",
    "download_data(\"datasets\", \"college\")\n",
    "download_data(\"datasets\", \"exams\")"
   ]
  },
  {
   "cell_type": "code",
   "execution_count": 33,
   "metadata": {},
   "outputs": [],
   "source": [
    "import pandas as pd\n",
    "import matplotlib.pyplot as plt\n",
    "import seaborn as sns"
   ]
  },
  {
   "cell_type": "code",
   "execution_count": 42,
   "metadata": {},
   "outputs": [],
   "source": [
    "df = pd.read_csv(\"datasets/exams.csv\")\n"
   ]
  },
  {
   "cell_type": "code",
   "execution_count": 43,
   "metadata": {},
   "outputs": [
    {
     "name": "stdout",
     "output_type": "stream",
     "text": [
      "   gender race/ethnicity parental level of education         lunch  \\\n",
      "0  female        group B           bachelor's degree      standard   \n",
      "1  female        group C                some college      standard   \n",
      "2  female        group B             master's degree      standard   \n",
      "3    male        group A          associate's degree  free/reduced   \n",
      "4    male        group C                some college      standard   \n",
      "\n",
      "  test preparation course  math score  reading score  writing score  \n",
      "0                    none          72             72             74  \n",
      "1               completed          69             90             88  \n",
      "2                    none          90             95             93  \n",
      "3                    none          47             57             44  \n",
      "4                    none          76             78             75  \n"
     ]
    }
   ],
   "source": [
    "# Check data\n",
    "print(df.head())"
   ]
  },
  {
   "cell_type": "code",
   "execution_count": 44,
   "metadata": {},
   "outputs": [
    {
     "name": "stdout",
     "output_type": "stream",
     "text": [
      "Index(['gender', 'race/ethnicity', 'parental level of education', 'lunch',\n",
      "       'test preparation course', 'math score', 'reading score',\n",
      "       'writing score'],\n",
      "      dtype='object')\n"
     ]
    }
   ],
   "source": [
    "print(df.columns)\n"
   ]
  },
  {
   "cell_type": "code",
   "execution_count": 46,
   "metadata": {},
   "outputs": [],
   "source": [
    "X = df.drop(columns=['gender', 'race/ethnicity', 'parental level of education', 'lunch','test preparation course', 'reading score', 'writing score'])\n",
    "y = df['math score']"
   ]
  },
  {
   "cell_type": "code",
   "execution_count": 47,
   "metadata": {},
   "outputs": [
    {
     "ename": "NameError",
     "evalue": "name 'train_test_split' is not defined",
     "output_type": "error",
     "traceback": [
      "\u001b[1;31m---------------------------------------------------------------------------\u001b[0m",
      "\u001b[1;31mNameError\u001b[0m                                 Traceback (most recent call last)",
      "Cell \u001b[1;32mIn[47], line 2\u001b[0m\n\u001b[0;32m      1\u001b[0m \u001b[38;5;66;03m# Split data\u001b[39;00m\n\u001b[1;32m----> 2\u001b[0m X_train, X_test, y_train, y_test \u001b[38;5;241m=\u001b[39m \u001b[43mtrain_test_split\u001b[49m(X, y, test_size\u001b[38;5;241m=\u001b[39m\u001b[38;5;241m0.2\u001b[39m, random_state\u001b[38;5;241m=\u001b[39m\u001b[38;5;241m42\u001b[39m)\n",
      "\u001b[1;31mNameError\u001b[0m: name 'train_test_split' is not defined"
     ]
    }
   ],
   "source": [
    "# Split data\n",
    "X_train, X_test, y_train, y_test = train_test_split(X, y, test_size=0.2, random_state=42)\n"
   ]
  }
 ],
 "metadata": {
  "kernelspec": {
   "display_name": "Python 3",
   "language": "python",
   "name": "python3"
  },
  "language_info": {
   "codemirror_mode": {
    "name": "ipython",
    "version": 3
   },
   "file_extension": ".py",
   "mimetype": "text/x-python",
   "name": "python",
   "nbconvert_exporter": "python",
   "pygments_lexer": "ipython3",
   "version": "3.12.6"
  }
 },
 "nbformat": 4,
 "nbformat_minor": 2
}
