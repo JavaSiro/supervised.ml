{
 "cells": [
  {
   "cell_type": "code",
   "execution_count": 4,
   "metadata": {},
   "outputs": [
    {
     "name": "stderr",
     "output_type": "stream",
     "text": [
      "Downloading...\n",
      "From: https://drive.google.com/uc?id=1TYN_sRmauaDgNYgQ-0VSHVAJvLoxKx2R\n",
      "To: c:\\Users\\user\\Desktop\\supervised.ml\\datasets\\exams.csv\n",
      "100%|██████████| 8.91k/8.91k [00:00<?, ?B/s]\n",
      "Downloading...\n",
      "From: https://drive.google.com/uc?id=1vwfMpQ4ikAI91zn1bWxP_Iqz7DTFUA9F\n",
      "To: c:\\Users\\user\\Desktop\\supervised.ml\\datasets\\college.csv\n",
      "100%|██████████| 32.4k/32.4k [00:00<00:00, 279kB/s]\n"
     ]
    }
   ],
   "source": [
    "import os\n",
    "import gdown\n",
    "\n",
    "def data_yuklab_olish(save_folder, dataset_name):\n",
    "    file_ids = {\n",
    "        \"exams\": \"1TYN_sRmauaDgNYgQ-0VSHVAJvLoxKx2R\",\n",
    "        \"college\": \"1vwfMpQ4ikAI91zn1bWxP_Iqz7DTFUA9F\",\n",
    "    }\n",
    "    file_id = file_ids[dataset_name]\n",
    "    url = f\"https://drive.google.com/uc?id={file_id}\"\n",
    "    output = os.path.join(save_folder, f\"{dataset_name}.csv\")\n",
    "    os.makedirs(save_folder, exist_ok=True)\n",
    "    gdown.download(url, output, quiet=False)\n",
    "    return output\n",
    "\n",
    "# Download datasets\n",
    "exams_path = data_yuklab_olish(\"datasets\", \"exams\")\n",
    "college_path = data_yuklab_olish(\"datasets\", \"college\")"
   ]
  },
  {
   "cell_type": "code",
   "execution_count": 5,
   "metadata": {},
   "outputs": [
    {
     "name": "stdout",
     "output_type": "stream",
     "text": [
      "Defaulting to user installation because normal site-packages is not writeable\n",
      "Requirement already satisfied: pandas in c:\\users\\user\\appdata\\roaming\\python\\python312\\site-packages (2.2.3)\n",
      "Requirement already satisfied: numpy>=1.26.0 in c:\\users\\user\\appdata\\roaming\\python\\python312\\site-packages (from pandas) (2.2.2)\n",
      "Requirement already satisfied: python-dateutil>=2.8.2 in c:\\users\\user\\appdata\\roaming\\python\\python312\\site-packages (from pandas) (2.9.0.post0)\n",
      "Requirement already satisfied: pytz>=2020.1 in c:\\users\\user\\appdata\\roaming\\python\\python312\\site-packages (from pandas) (2025.1)\n",
      "Requirement already satisfied: tzdata>=2022.7 in c:\\users\\user\\appdata\\roaming\\python\\python312\\site-packages (from pandas) (2025.1)\n",
      "Requirement already satisfied: six>=1.5 in c:\\users\\user\\appdata\\roaming\\python\\python312\\site-packages (from python-dateutil>=2.8.2->pandas) (1.17.0)\n"
     ]
    },
    {
     "name": "stderr",
     "output_type": "stream",
     "text": [
      "\n",
      "[notice] A new release of pip is available: 24.2 -> 25.0.1\n",
      "[notice] To update, run: python.exe -m pip install --upgrade pip\n"
     ]
    }
   ],
   "source": [
    "!pip install pandas"
   ]
  },
  {
   "cell_type": "code",
   "execution_count": 8,
   "metadata": {},
   "outputs": [
    {
     "name": "stdout",
     "output_type": "stream",
     "text": [
      "Defaulting to user installation because normal site-packages is not writeable\n",
      "Collecting chardet\n",
      "  Downloading chardet-5.2.0-py3-none-any.whl.metadata (3.4 kB)\n",
      "Downloading chardet-5.2.0-py3-none-any.whl (199 kB)\n",
      "Installing collected packages: chardet\n",
      "Successfully installed chardet-5.2.0\n"
     ]
    },
    {
     "name": "stderr",
     "output_type": "stream",
     "text": [
      "\n",
      "[notice] A new release of pip is available: 24.2 -> 25.0.1\n",
      "[notice] To update, run: python.exe -m pip install --upgrade pip\n"
     ]
    }
   ],
   "source": [
    "!pip install chardet"
   ]
  },
  {
   "cell_type": "code",
   "execution_count": 1,
   "metadata": {},
   "outputs": [
    {
     "ename": "NameError",
     "evalue": "name 'exams_path' is not defined",
     "output_type": "error",
     "traceback": [
      "\u001b[1;31m---------------------------------------------------------------------------\u001b[0m",
      "\u001b[1;31mNameError\u001b[0m                                 Traceback (most recent call last)",
      "Cell \u001b[1;32mIn[1], line 4\u001b[0m\n\u001b[0;32m      1\u001b[0m \u001b[38;5;28;01mimport\u001b[39;00m\u001b[38;5;250m \u001b[39m\u001b[38;5;21;01mpandas\u001b[39;00m\u001b[38;5;250m \u001b[39m\u001b[38;5;28;01mas\u001b[39;00m\u001b[38;5;250m \u001b[39m\u001b[38;5;21;01mpd\u001b[39;00m\n\u001b[0;32m      3\u001b[0m \u001b[38;5;66;03m# Load datasets\u001b[39;00m\n\u001b[1;32m----> 4\u001b[0m exams_df \u001b[38;5;241m=\u001b[39m pd\u001b[38;5;241m.\u001b[39mread_csv(\u001b[43mexams_path\u001b[49m)\n\u001b[0;32m      5\u001b[0m college_df \u001b[38;5;241m=\u001b[39m pd\u001b[38;5;241m.\u001b[39mread_csv(college_path)\n\u001b[0;32m      7\u001b[0m \u001b[38;5;66;03m# Display basic info\u001b[39;00m\n",
      "\u001b[1;31mNameError\u001b[0m: name 'exams_path' is not defined"
     ]
    }
   ],
   "source": [
    "import pandas as pd\n",
    "\n",
    "# Load datasets\n",
    "exams_df = pd.read_csv(exams_path)\n",
    "college_df = pd.read_csv(college_path)\n",
    "\n",
    "# Display basic info\n",
    "print(\"Exams Dataset Info:\")\n",
    "print(exams_df.info())\n",
    "print(\"\\nCollege Dataset Info:\")\n",
    "print(college_df.info())\n",
    "\n",
    "# Display summary statistics\n",
    "print(\"\\nExams Dataset Summary:\")\n",
    "print(exams_df.describe())\n",
    "print(\"\\nCollege Dataset Summary:\")\n",
    "print(college_df.describe())"
   ]
  }
 ],
 "metadata": {
  "kernelspec": {
   "display_name": "Python 3",
   "language": "python",
   "name": "python3"
  },
  "language_info": {
   "codemirror_mode": {
    "name": "ipython",
    "version": 3
   },
   "file_extension": ".py",
   "mimetype": "text/x-python",
   "name": "python",
   "nbconvert_exporter": "python",
   "pygments_lexer": "ipython3",
   "version": "3.12.6"
  }
 },
 "nbformat": 4,
 "nbformat_minor": 2
}
